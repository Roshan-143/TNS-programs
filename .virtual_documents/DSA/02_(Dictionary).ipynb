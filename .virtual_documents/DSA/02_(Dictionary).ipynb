





# Declaring a dictionary
student = {
    "name": "Alex",
    "age": 21,
    "branch": "Machine Learning"
}
print("Dictionary:", student)









person = {"name": "Alex", "age": 25, "city": "Mumbai"}

# Fetch existing key
print(person.get("name"))        # Output: Alex

# Fetch non-existing key
print(person.get("country"))     # Output: None






person = {"name": "Alex", "age": 25, "city": "Mumbai"}

# Get all keys
print(person.keys())






person = {"name": "Alex", "age": 25, "city": "Mumbai"}

# Get all values
print(person.values())






person = {"name": "Alex", "age": 25, "city": "Mumbai"}

# Get all key-value pairs
print(person.items())






person = {"name": "Alex", "age": 25, "city": "Mumbai"}

# Update dictionary with new data
person.update({"age": 26, "country": "India"})
print(person)






person = {"name": "Alex", "age": 25, "city": "Mumbai"}

# Remove a key and get its value
removed_value = person.pop("city")
print("Removed value:", removed_value)
print(person)






person = {"name": "Alex", "age": 25, "city": "Mumbai"}

# Remove last inserted item
last_item = person.popitem()
print("Removed last item:", last_item)
print(person)






person = {"name": "Alex", "age": 25, "city": "Mumbai"}

# Clear dictionary
person.clear()
print(person)









person = {"name": "Alex", "age": 25, "city": "Mumbai"}

# Make a copy
person_copy = person.copy()
print("Copy:", person_copy)






person = {"name": "Alex", "age": 25, "city": "Mumbai"}

# Get value if exists, else set a default
value = person.setdefault("country", "India")
print(person)






person = {"name": "Alex", "age": 25, "city": "Mumbai"}

# Delete a specific key
del person["age"]
print(person)

# Delete the entire dictionary
del person
#print(person)  # Uncommenting this will raise a NameError









numbers = [1, 2, 2, 3, 3, 3, 4]
frequency = {}

for num in numbers:
    if num in frequency:
        frequency[num] += 1
    else:
        frequency[num] = 1

print(frequency)






marks = {"John": 45, "Emma": 88, "Noah": 77}

# Find key with maximum value
topper = max(marks, key=marks.get)
print("Topper is:", topper)






dict1 = {"a": 1, "b": 2}
dict2 = {"b": 3, "c": 4}

# Merge using update()
dict1.update(dict2)
print(dict1)






original = {'a': 1, 'b': 2, 'c': 3}
inverted = {}

for key, value in original.items():
    inverted[value] = key

print(inverted)






dict1 = {"a": 1, "b": 2}
dict2 = {"b": 2, "a": 1}

# Compare directly
print(dict1 == dict2)  # True

# Another Example
dict3 = {"a": 2, "b": 1}
print(dict1 == dict3)  # False

