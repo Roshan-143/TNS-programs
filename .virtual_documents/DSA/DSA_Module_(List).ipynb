





# Creating a list
my_list = [10, 20, 30, 40, 20]
print("List:", my_list)






# append() → Adds a single element to the end of the list
numbers = [10, 20, 30]
numbers.append(40)
print("After append:", numbers)  # [10, 20, 30, 40]






# extend() → Adds all elements from another iterable (like another list)
numbers = [1, 2, 3]
numbers.extend([4, 5, 6])
print("After extend:", numbers)  # [1, 2, 3, 4, 5, 6]






# insert() → Inserts an element at a specified index
numbers = [1, 3, 4]
numbers.insert(1, 2)  # Insert 2 at index 1
print("After insert:", numbers)  # [1, 2, 3, 4]







# remove() → Removes the first occurrence of a specified value
numbers = [1, 2, 3, 2]
numbers.remove(2)  # Removes the first 2
print("After remove:", numbers)  # [1, 3, 2]






# pop() → Removes and returns element at given index (default is last)
numbers = [10, 20, 30]
popped_value = numbers.pop()  # Removes 30
print("Popped value:", popped_value)
print("After pop:", numbers)  # [10, 20]






# clear() → Removes all elements from the list
numbers = [10, 20, 30]
numbers.clear()
print("After clear:", numbers)  # []






# index() → Returns the index of the first occurrence of a specified value
numbers = [10, 20, 30, 40]
index_pos = numbers.index(30)
print("Index of 30:", index_pos)  # 2






# count() → Counts the number of times a value occurs in the list
numbers = [1, 2, 3, 2, 4, 2]
count_twos = numbers.count(2)
print("Count of 2:", count_twos)  # 3






# reverse() → Reverses the list in-place
numbers = [1, 2, 3, 4]
numbers.reverse()
print("After reverse:", numbers)  # [4, 3, 2, 1]






# sort() → Sorts the list in ascending order
numbers = [3, 1, 4, 2]
numbers.sort()
print("After sort:", numbers)  # [1, 2, 3, 4]






# copy() → Returns a shallow copy of the list
numbers = [1, 2, 3]
copy_numbers = numbers.copy()
print("Copied list:", copy_numbers)  # [1, 2, 3]






# len() → Returns the number of elements in the list
numbers = [1, 2, 3, 4]
print("Length of list:", len(numbers))  # 4






# sum() → Returns the sum of all numeric elements in the list
numbers = [1, 2, 3, 4]
total = sum(numbers)
print("Sum of list:", total)  # 10






# max() → Returns the largest element in the list
# min() → Returns the smallest element in the list
numbers = [5, 8, 2, 10, 3]
print("Max value:", max(numbers))  # 10
print("Min value:", min(numbers))  # 2









# Given list
numbers = [10, 20, 30, 40]

# Append 100 to the list
numbers.append(100)

# Print the updated list
print("Updated list after append:", numbers)






# Given list
numbers = [10, 20, 30, 40]

# Insert 50 at index 2 (3rd position)
numbers.insert(2, 50)

# Print the updated list
print("Updated list after insert:", numbers)






# Given list
numbers = [10, 20, 30, 40, 20]

# Remove the first occurrence of 20
numbers.remove(20)

# Print the updated list
print("Updated list after removing 20:", numbers)






# Given list
numbers = [10, 20, 30, 10, 40, 10]

# Count how many times 10 appears
count_of_10 = numbers.count(10)

# Print the count
print("Number of times 10 appears:", count_of_10)






# Given list
numbers = [10, 20, 30, 40, 50]

# Reverse the list
numbers.reverse()

# Print the reversed list
print("List after reverse:", numbers)






# Given list
numbers = [50, 20, 40, 10, 30]

# Sort the list in ascending order
numbers.sort()

# Print the sorted list
print("List after sort:", numbers)






# Given list
numbers = [50, 20, 40, 10, 30]

# Find maximum and minimum values
maximum_value = max(numbers)
minimum_value = min(numbers)

# Print the values
print("Maximum value:", maximum_value)
print("Minimum value:", minimum_value)






# Given list
numbers = [50, 20, 40, 10, 30]

# Calculate the sum of all elements
total_sum = sum(numbers)

# Print the sum
print("Sum of list:", total_sum)

