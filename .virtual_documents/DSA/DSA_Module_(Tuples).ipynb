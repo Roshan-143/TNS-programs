





# Creating a tuple
my_tuple = (10, 20, 30, 40, 50)

# Display the tuple
print("Tuple:", my_tuple)









# Given tuple
my_tuple = (10, 20, 30, 20, 40)

# Find index of first occurrence of 20
index_of_20 = my_tuple.index(20)

# Print the index
print("Index of 20:", index_of_20)






# Given tuple
my_tuple = (10, 20, 10, 30, 10, 40)

# Count how many times 10 appears
count_10 = my_tuple.count(10)

# Print the count
print("Count of 10:", count_10)






# Given tuple
my_tuple = (10, 20, 30, 40)

# Find the length
length = len(my_tuple)

# Print the length
print("Length of tuple:", length)






# Given tuple
my_tuple = (10, 20, 30, 40)

# Find max and min values
maximum_value = max(my_tuple)
minimum_value = min(my_tuple)

# Print values
print("Max value:", maximum_value)
print("Min value:", minimum_value)






# Given tuple
my_tuple = (10, 20, 30, 40)

# Calculate sum
total = sum(my_tuple)

# Print the sum
print("Sum of tuple:", total)






# Given list
my_list = [10, 20, 30, 40]

# Convert to tuple
my_tuple = tuple(my_list)

# Print the tuple
print("Converted tuple:", my_tuple)









my_tuple = (10, 20, 30, 20, 40, 20)
target = 20

indexes = []
for i in range(len(my_tuple)):
    if my_tuple[i] == target:
        indexes.append(i)

print(indexes)






nested_tuple = ((1, 2), (3, 4), (5, 6))
flat_list = []

for t in nested_tuple:
    for num in t:
        flat_list.append(num)

flat_tuple = tuple(flat_list)
print(flat_tuple)






my_tuple = (10, 20, 30, 40)
temp = list(my_tuple)

temp[0], temp[-1] = temp[-1], temp[0]

new_tuple = tuple(temp)
print(new_tuple)






my_tuple = (10, 40, 30, 20, 50)
my_list = list(my_tuple)

my_list.sort()
second_largest = my_list[-2]

print(second_largest)






tuple1 = (10, 20, 30)
tuple2 = (10, 20, 30)

print(tuple1 == tuple2)

