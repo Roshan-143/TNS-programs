






my_set = {1, 2, 3, 4, 5}
print("Initial Set:", my_set)









my_set = {1, 2, 3}
my_set.add(4)
print("After add:", my_set)






my_set = {1, 2}
my_set.update([3, 4, 5])
print("After update:", my_set)






my_set = {1, 2, 3}
my_set.remove(9)
print("After remove:", my_set)






my_set = {1, 2, 3}
my_set.discard(5)  # Won't raise error
print("After discard:", my_set)






my_set = {10, 20, 30}
removed_item = my_set.pop()
print("Removed item:", removed_item)
print("After pop:", my_set)






my_set = {1, 2, 3}
my_set.clear()
print("After clear:", my_set)





set1 = {1, 2, 3}
set2 = {3, 4, 5}
result = set1.union(set2)
print("Union:", result)






set1 = {1, 2, 3}
set2 = {2, 3, 4}
result = set1.intersection(set2)
print("Intersection:", result)






set1 = {1, 2, 3}
set2 = {2, 3, 4}
result = set1.difference(set2)
print("Symmetric Difference:", result)






set1 = {1, 2}
set2 = {1, 2, 3}
print("Is set1 subset of set2?", set1.issubset(set2))






set1 = {1, 2, 3}
set2 = {2, 3}
print("Is set1 superset of set2?", set2.issuperset(set1))






my_set = {10, 20, 30, 40}
print("Length of set:", len(my_set))









# Given list
numbers = [1, 2, 3, 2, 4, 1, 5]

# Remove duplicates by converting list to set and back to list
unique_numbers = list(set(numbers))

# Print unique numbers
print("Unique numbers:", unique_numbers)






# Given sets
set1 = {1, 2, 3}
set2 = {4, 5, 6}

# Check for common elements
if set1.intersection(set2):
    print("Yes")
else:
    print("No")






# Given sets
set1 = {1, 2, 3}
set2 = {3, 4, 5}

# Symmetric difference gives elements not common to both
result = set1.symmetric_difference(set2)

# Print result
print("Elements unique to either set:", result)






# Given string
text = "hello"

# Convert string to set to get unique characters
unique_chars = set(text)

# Print count of unique characters
print("Number of unique characters:", len(unique_chars))






# Given sets
set1 = {1, 2}
set2 = {1, 2, 3, 4}

# Check if set1 is subset of set2
print("Is set1 a subset of set2?", set1.issubset(set2))

