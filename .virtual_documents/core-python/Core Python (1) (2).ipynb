

















print("Hello, World!")








if (50 > 12):
   print("Five is greater than two!")
   print("------------End of if-----")
print("----------End of Code-----------")


    


if 5 > 2:                            #error because their is no indentation
print("Five is greater than two!")





if 5 > 2:
 print("Five is greater than two!") 
if 5 > 2:
        print("Five is greater than two!") 





if 5 > 2:
 print("Five is greater than two!")
        print("Five is greater than two!")





x = 5
y = "Hello, World!"
print(x)
print(type(x))
print(type(y))
x=True
print(type(x))

x=int(10)
print(x)
print(type(x))


x





#This is a comment.
print("Hello, World!")








print("Hello, World!") #This is a comment





#print("Hello, World!")
print("Cheers, Mate!")





#This is a comment
#written in
#more than just one line
print("Hello, World!")





"""
This is a comment
written in
more than just one line
"""
print("Hello, World!")








x = 5
y = "Akash"
print(x)
print(y)



x = 4 # x is of type int
x = "Sally" # x is now of type str
print(x)


x = "John"
print(type(x))
# is the same as
x = 'John'
print(type(x))
x="Student's"
print(x)
x='"Python" is interesting'
print(x)
x="a"
print(x)
print(type(x))





#Legal variable names:
myvar = "John"
my_var = "John"
_my_var = "John"
myVar = "John"
MYVAR = "John"
myvar2 = "John"

#Illegal variable names:
#2myvar = "John"
my-var = "John"
my var = "John"





x, y, z = "Orange", "Banana", "Cherry"
print(x)
print(y)
print(z)
#x, y, z = "Orange", "Banana", "Cherry", "Apple" #too many values
#x, y, z = "Orange", "Banana" #not enough values
x,y=10, "abc"
print(x,y)
print(y)





x = y = z = "Orange"
print(x)
print(y)
print(z)





x = "awesome"
print("Python is " + x)
x=10
print("x = "+x)


x = "Python is "
y = "awesome"
z =  x + y
print(z)


x = 5
y = 10
print(x + y)





x = 5
y = "John"
print(x + y)





x = "awesome"

#function definition
def myfunc():
  print("Python is " + x)

#function call
myfunc()
myfunc()
myfunc()


x = "awesome"

def myfunc():
  x = "fantastic" #local copy
  print("Python is " + x)

myfunc()

print("Python is " + x) #global





def myfunc():
  global x
  x = "fantastic"

myfunc()

print("Python is " + x)





x = "awesome"

def myfunc():
  global x
  x = "fantastic"

myfunc()

print("Python is " + x)











x = 5
print(type(x))


x = "Hello World"

#display x:
print(x)

#display the data type of x:
print(type(x))


x = 20

#display x:
print(x)

#display the data type of x:
print(type(x)) 



x = 20.5

#display x:
print(x)

#display the data type of x:
print(type(x)) 



x = 1j

#display x:
print(x)

#display the data type of x:
print(type(x)) 



name="alpana"
code=50020
print(name +"  ",code)
print("Name : %s    Code : %d" %(name,code)) #Formated output


def addition(a,b):
    c=a+b
    return c

def add(a, b=5):
    c=a+b
    return c

def show(name="Alpana", code=50020, location="Nashik"):
    print(name, code , location)

show()
show("Alpana S.", 11111,"aaaaa")
show(location="MH")
show(location="Nsk", name="ALPANA")


x=addition(10,20)
print(x)
x=addition(100,4000)
print(x)

print(add(10,30))
print(add(100))


print(2*3)
#print("2"*"3")
print("2"*3)
print(2*"3")


x = ["orange","apple", "banana", "cherry"]

#display x:
print(x)

#display the data type of x:
print(type(x)) 



x = ("orange","apple", "banana", "cherry")

#display x:
print(x)

#display the data type of x:
print(type(x)) 



x = range(6)

#display x:
print(x)

#display the data type of x:
print(type(x)) 



x = {"name" : "John", "age" : 36}

#display x:
print(x)

#display the data type of x:
print(type(x))


x = set({"apple", "banana", "cherry","apple"})

#display x:
print(x)

#display the data type of x:
print(type(x)) 



x = frozenset({"apple", "banana", "cherry"})

#display x:
print(x)

#display the data type of x:
print(type(x)) 


x = True

#display x:
print(x)

#display the data type of x:
print(type(x)) 


x = b"Hello"

#display x:
print(x)

#display the data type of x:
print(type(x)) 



x = bytearray(5)

#display x:
print(x)

#display the data type of x:
print(type(x)) 


x = memoryview(bytes(5))

#display x:
print(x)

#display the data type of x:
print(type(x)) 






x = str("Hello World")

#display x:
print(x)

#display the data type of x:
print(type(x)) 


x = int(20)

#display x:
print(x)

#display the data type of x:
print(type(x)) 



x = float(20.5)

#display x:
print(x)

#display the data type of x:
print(type(x)) 


x = complex(1j)

#display x:
print(x)

#display the data type of x:
print(type(x)) 



x = list(("apple", "banana", "cherry"))

#display x:
print(x)

#display the data type of x:
print(type(x)) 
print(x[0])
print(len(x))



x = tuple(("apple", "banana", "cherry"))

#display x:
print(x)

#display the data type of x:
print(type(x)) 



x = range(6)

#display x:
print(x)

#display the data type of x:
print(type(x)) 


x = dict(name="John", age=36)

#display x:
print(x)

#display the data type of x:
print(type(x)) 


x = set(("apple", "banana", "cherry"))

#display x:
print(x)

#display the data type of x:
print(type(x)) 



x = frozenset(("apple", "banana", "cherry"))

#display x:
print(x)

#display the data type of x:
print(type(x)) 



x = bool(5)

#display x:
print(x)

#display the data type of x:
print(type(x)) 



x = bytes(5)

#display x:
print(x)

#display the data type of x:
print(type(x)) 


x = bytearray(5)

#display x:
print(x)

#display the data type of x:
print(type(x)) 



x = memoryview(bytes(5))

#display x:
print(x)

#display the data type of x:
print(type(x)) 









x = 1    # int
y = 2.8  # float
z = 1j   # complex


print(type(x))
print(type(y))
print(type(z))





x = 1
y = 35656222554887711
z = -3255522

print(type(x))
print(type(y))
print(type(z))





x = 1.10
y = 1.0
z = -35.59

print(type(x))
print(type(y))
print(type(z))





y = 12E4
z = -87.7e100
print(y)
print(z)
print(type(x))
print(type(y))
print(type(z))





x = 3+5j
y = 5j
z = -5j

print(x)
print(y)
print(z)
print(type(x))
print(type(y))
print(type(z))





x = 1    # int
y = 2.8  # float
z = 1j   # complex

#convert from int to float:
a = float(x)

#convert from float to int:
b = int(y)

#convert from int to complex:
c = complex(x)

print(a)
print(b)
print(c)

print(type(a))
print(type(b))
print(type(c))





import random

def display(n):
    print(n)


display(random.randrange(1, 10))








x = int(1)   # x will be 1
y = int(2.8) # y will be 2
z = int("3") # z will be 3
print(x)
print(y)
print(z)


x = float(1)     # x will be 1.0
y = float(2.8)   # y will be 2.8
z = float("3")   # z will be 3.0
w = float("4.2") # w will be 4.2
print(x)
print(y)
print(z)
print(w)



x = str("s1") # x will be 's1'
y = str(2)    # y will be '2'
z = str(3.0)  # z will be '3.0'
print(x)
print(y)
print(z)








print("Hello")
print('Hello')





a = "Hello"
print(a)





a = """Lorem ipsum dolor sit amet,
consectetur adipiscing elit,
sed do eiusmod tempor incididunt
ut labore et dolore magna aliqua."""
print(a)


a = '''Lorem ipsum dolor sit amet,
consectetur adipiscing elit,
sed do eiusmod tempor incididunt
ut labore et dolore magna aliqua.'''
print(a)









a = "Hello, World!"
print(a[1])





b = "Hello, World!"
print(b[0]) #display 0th index letter
print(b[2:5]) #display 2nd to 4th pos letters
print(b[7:]) #display string from 7th pos
print(b[:6]) #display till 5th
print(b[:]) #display all letters






b = "Hello, World!"
print(b[-1])
print(b[-5:-2])
print(b[0:-1])
print(b[-10:-1])





a = "Hello, World!"
print(len(a))





#The strip() method removes any whitespace from the beginning or the end:

a = " Hello, World! "
print(len(a))
print(len(a.strip())) # returns "Hello, World!"


#The lower() method returns the string in lower case:

a = "Hello, World!"
print(a.lower())


#The upper() method returns the string in upper case:

a = "Hello, World!"
print(a.upper())


#The replace() method replaces a string with another string:

a = "Hello, World!"
print(a.replace("H", "Hi"))


#The split() method splits the string into substrings if it finds instances of the separator:

a = "Hello, World!"
print(a.split(",")) # returns ['Hello', ' World!']
a="Java C Python C++ .NET"
print(a)
l=a.split(" ")
print(l)
print("C++" in l)
print("C#" not in l)





txt = "The rain in Spain stays mainly in the plain"
x = "ain" in txt
print(x)





txt = "The rain in Spain stays mainly in the plain"
x = "ain" not in txt
print(x)





a = "Hello"
b = "World"
c = a + b
print(c)


a = "Hello"
b = "World"
c = a + " " + b
print(c)





age = 36
txt = "My name is John, I am " + age
print(txt)





#Use the format() method to insert numbers into strings:

age = 36
txt = "My name is John, and I am {}"
print(txt.format(age))


#The format() method takes unlimited number of arguments, and are placed into the respective placeholders:

quantity = 3
itemno = 567
price = 49.95
myorder = "I want {} pieces of item {} for {} dollars."
print(myorder.format(quantity, itemno, price))


#You can use index numbers {0} to be sure the arguments are placed in the correct placeholders:


quantity = 3
itemno = 567
price = 49.95
myorder = "I want to pay {2} dollars for {0} pieces of item {1}."
print(myorder.format(quantity, itemno, price))

myorder = "I want to pay {2} dollars for {0} pieces of item {1}. {2}"
print(myorder.format(quantity, itemno, price))


txt = "We are the so-called "Vikings" from the north."
print(txt)

#You will get an error if you use double quotes inside a string that are surrounded by double quotes:


txt = "We are the so-called \"Vikings\" from the north."
print(txt) 














print(10 > 9)
print(10 == 9)
print(10 < 9)



a = 200
b = 33

if b > a:
  print("b is greater than a")
else:
  print("b is not greater than a")






print(bool("Hello"))
print(bool(15))
print(bool(0))



x = "Hello"
y = 15

print(bool(x))
print(bool(y))



print(bool("abc"))
print(bool(123))
print(bool(["apple", "cherry", "banana"]))





bool(False)
bool(0)
bool(None)
bool("")
bool(())
bool([])
bool({})


def myFunction() :
  return True

if myFunction():
  print("YES!")
else:
  print("NO!")



x = 200
print(isinstance(x, int))
print(isinstance(x, bool))











x = 5
y = 3

print(x + y)



x = 5
y = 3

print(x - y)



x = 5
y = 3

print(x * y)



x = 12
y = 3

print(x / y)


x = 5
y = 2

print(x % y)


x = 2
y = 5

print(x ** y) #same as 2*2*2*2*2


x = 15
y = 2

print( x / y)
print(x // y)

#the floor division // rounds the result down to the nearest whole number





x = 5

print(x)


x = 5

x += 3

print(x)


x = 5

x -= 3

print(x)



x = 5

x *= 3

print(x)



x = 5

x /= 3

print(x)



x = 5

x%=3

print(x)



x = 5

x//=3

print(x)


x = 5

x **= 3

print(x)



x = 5

x &= 3

print(x)



x = 5

x |= 3

print(x)


x = 5

x ^= 3

print(x)



x = 5

x >>= 3

print(x)



x = 5

x <<= 3

print(x)






x = 5
y = 3

print(x == y)

# returns False because 5 is not equal to 3



x = 5
y = 3

print(x != y)

# returns True because 5 is not equal to 3



x = 5
y = 3

print(x > y)

# returns True because 5 is greater than 3



x = 5
y = 3

print(x < y)

# returns False because 5 is not less than 3


x = 5
y = 3

print(x >= y)

# returns True because five is greater, or equal, to 3



x = 5
y = 3

print(x <= y)

# returns False because 5 is neither less than or equal to 3






x = 5

print(x > 3 and x < 10)

# returns True because 5 is greater than 3 AND 5 is less than 10


x = 5

print(x > 3 or x < 4)

# returns True because one of the conditions are true (5 is greater than 3, but 5 is not less than 4)



x = 5

print(not(x > 3 and x < 10))

# returns False because not is used to reverse the result





x = ["apple", "banana"]
y = ["apple", "banana"]
z = x

print(x is z)

# returns True because z is the same object as x

print(x is y) 

# returns False because x is not the same object as y, even if they have the same content

print(x == y) 

# to demonstrate the difference betweeen "is" and "==": this comparison returns True because x is equal to y



x = ["apple", "banana"]
y = ["apple", "banana"]
z = x

print(x is not z)

# returns False because z is the same object as x

print(x is not y)

# returns True because x is not the same object as y, even if they have the same content

print(x != y)

# to demonstrate the difference betweeen "is not" and "!=": this comparison returns False because x is equal to y





x = ["apple", "banana"]

print("banana" in x)

# returns True because a sequence with the value "banana" is in the list


x = ["apple", "banana"]

print("pineapple" not in x)

# returns True because a sequence with the value "pineapple" is not in the list

















#Create a List:

thislist = ["apple", "banana", "cherry"]
print(thislist)








thislist = ["apple", "banana", "cherry"]
print(thislist[1])






#Print the last item of the list:

thislist = ["apple", "banana", "cherry"]
print(thislist[-1])





thislist = ["apple", "banana", "cherry", "orange", "kiwi", "melon", "mango"]
print(thislist[2:5])


#This example returns the items from the beginning to "orange":

thislist = ["apple", "banana", "cherry", "orange", "kiwi", "melon", "mango"]
print(thislist[:4])


#This example returns the items from "cherry" and to the end:

thislist = ["apple", "banana", "cherry", "orange", "kiwi", "melon", "mango"]
print(thislist[2:])





#This example returns the items from index -4 (included) to index -1 (excluded)

thislist = ["apple", "banana", "cherry", "orange", "kiwi", "melon", "mango"]
print(thislist[-4:-1])





#Change the second item:

thislist = ["apple", "banana", "cherry"]
thislist[1] = "blackcurrant"
print(thislist)





#Print all items in the list, one by one:

thislist = ["apple", "banana", "cherry"]
for x in thislist:
  print(x)





#Check if "apple" is present in the list:

thislist = ["apple", "banana", "cherry"]
if "apple" in thislist:
  print("Yes, 'apple' is in the fruits list")





#Print the number of items in the list:

thislist = ["apple", "banana", "cherry"]
print(len(thislist))





#Using the append() method to append an item:

thislist = ["apple", "banana", "cherry"]
thislist.append("orange")
print(thislist)





#Insert an item as the second position:

thislist = ["apple", "banana", "cherry"]
thislist.insert(1, "orange")
print(thislist)





#The remove() method removes the specified item:

thislist = ["apple", "banana", "cherry"]
thislist.remove("banana")
print(thislist)


#The pop() method removes the specified index, (or the last item if index is not specified):

thislist = ["apple", "banana", "cherry"]
thislist.pop()
print(thislist)


#The del keyword removes the specified index:

thislist = ["apple", "banana", "cherry"]
del thislist[0]
print(thislist)


#The del keyword can also delete the list completely:

thislist = ["apple", "banana", "cherry"]
del thislist
print(thislist)#this will cause an error because you have succsesfully deleted "thislist".


#The clear() method empties the list:

thislist = ["apple", "banana", "cherry"]
thislist.clear()
print(thislist)





#Make a copy of a list with the copy() method:

thislist = ["apple", "banana", "cherry"]
mylist = thislist.copy()
print(mylist)


#Make a copy of a list with the list() method:

thislist = ["apple", "banana", "cherry"]
mylist = list(thislist)
print(mylist)





#Join two list:

list1 = ["a", "b" , "c"]
list2 = [1, 2, 3]

list3 = list1 + list2
print(list3)


#Append list2 into list1:

list1 = ["a", "b" , "c"]
list2 = [1, 2, 3]

for x in list2:
  list1.append(x)

print(list1)






list1 = ["a", "b" , "c"]
list2 = [1, 2, 3]

list1.extend(list2)
print(list1)





#Using the list() constructor to make a List:

thislist = list(("apple", "banana", "cherry")) # note the double round-brackets
print(thislist)











#Create a Tuple:

thistuple = ("apple", "banana", "cherry")
print(thistuple)





#Print the second item in the tuple:

thistuple = ("apple", "banana", "cherry")
print(thistuple[1])





#Print the last item of the tuple:

thistuple = ("apple", "banana", "cherry")
print(thistuple[-1])





#Return the third, fourth, and fifth item:

thistuple = ("apple", "banana", "cherry", "orange", "kiwi", "melon", "mango")
print(thistuple[2:5])





#This example returns the items from index -4 (included) to index -1 (excluded)

thistuple = ("apple", "banana", "cherry", "orange", "kiwi", "melon", "mango")
print(thistuple[-4:-1])





x = ("apple", "banana", "cherry")
y = list(x)
y[1] = "kiwi"
x = tuple(y)

print(x)






#Iterate through the items and print the values:

thistuple = ("apple", "banana", "cherry")
for x in thistuple:
  print(x)





thistuple = ("apple", "banana", "cherry")
if "apple" in thistuple:
  print("Yes, 'apple' is in the fruits tuple")





#Print the number of items in the tuple:

thistuple = ("apple", "banana", "cherry")
print(len(thistuple))





#You cannot add items to a tuple:  leads to an error

thistuple = ("apple", "banana", "cherry")
thistuple[3] = "orange" # This will raise an error
print(thistuple)





#One item tuple, remember the commma:

thistuple = ("apple",)
print(type(thistuple))

#NOT a tuple
thistuple = ("apple")
print(type(thistuple))








#The del keyword can delete the tuple completely:

thistuple = ("apple", "banana", "cherry")
del thistuple
print(thistuple) #this will raise an error because the tuple no longer exists





tuple1 = ("a", "b" , "c")
tuple2 = (1, 2, 3)

tuple3 = tuple1 + tuple2
print(tuple3)





#Using the tuple() method to make a tuple:

thistuple = tuple(("apple", "banana", "cherry")) # note the double round-brackets
print(thistuple)








#Create a Set:

thisset = {"apple", "banana", "cherry"}
print(thisset)





#Loop through the set, and print the values:

thisset = {"apple", "banana", "cherry"}

for x in thisset:
  print(x)


#Check if "banana" is present in the set:

thisset = {"apple", "banana", "cherry"}

print("banana" in thisset)








#Add an item to a set, using the add() method:

thisset = {"apple", "banana", "cherry"}

thisset.add("orange")

print(thisset)


#Add multiple items to a set, using the update() method:

thisset = {"apple", "banana", "cherry"}

thisset.update(["orange", "mango", "grapes"])

print(thisset)





#Get the number of items in a set:

thisset = {"apple", "banana", "cherry"}

print(len(thisset))





#Remove "banana" by using the remove() method:

thisset = {"apple", "banana", "cherry"}

thisset.remove("banana")

print(thisset)





#Remove "banana" by using the discard() method:

thisset = {"apple", "banana", "cherry"}

thisset.discard("banana")

print(thisset)


#Remove the last item by using the pop() method:

thisset = {"apple", "banana", "cherry"}

x = thisset.pop()

print(x)

print(thisset)


#The clear() method empties the set:

thisset = {"apple", "banana", "cherry"}

thisset.clear()

print(thisset)


#The del keyword will delete the set completely:

thisset = {"apple", "banana", "cherry"}

del thisset

print(thisset)





#The union() method returns a new set with all items from both sets:

set1 = {"a", "b" , "c"}
set2 = {1, 2, 3}

set3 = set1.union(set2)
print(set3)


#The update() method inserts the items in set2 into set1:

set1 = {"a", "b" , "c"}
set2 = {1, 2, 3}

set1.update(set2)
print(set1)





#Using the set() constructor to make a set:

thisset = set(("apple", "banana", "cherry")) # note the double round-brackets
print(thisset)











#Create and print a dictionary:

thisdict = {
  "brand": "Ford",
  "model": "Mustang",
  "year": 1964
}
print(thisdict)





#You can access the items of a dictionary by referring to its key name, inside square brackets:
thisdict =	{
  "brand": "Ford",
  "model": "Mustang",
  "year": 1964
}
x = thisdict["model"]
print(x)






thisdict =	{
  "brand": "Ford",
  "model": "Mustang",
  "year": 1964
}
x = thisdict.get("model")
print(x)






#Change the "year" to 2018:

thisdict = {
  "brand": "Ford",
  "model": "Mustang",
  "year": 1964
}
thisdict["year"] = 2018





thisdict =	{
  "brand": "Ford",
  "model": "Mustang",
  "year": 1964
}
for x in thisdict:
  print(x)






thisdict =	{
  "brand": "Ford",
  "model": "Mustang",
  "year": 1964
}
for x in thisdict:
  print(thisdict[x])






thisdict =	{
  "brand": "Ford",
  "model": "Mustang",
  "year": 1964
}
for x in thisdict.values():
  print(x)






thisdict =	{
  "brand": "Ford",
  "model": "Mustang",
  "year": 1964
}
for x, y in thisdict.items():
  print(x, y)






thisdict = {
  "brand": "Ford",
  "model": "Mustang",
  "year": 1964
}
if "model" in thisdict:
  print("Yes, 'model' is one of the keys in the thisdict dictionary")






#Print the number of items in the dictionary:

print(len(thisdict))





thisdict = {
  "brand": "Ford",
  "model": "Mustang",
  "year": 1964
}
thisdict["color"] = "red"
print(thisdict)





#The pop() method removes the item with the specified key name:

thisdict = {
  "brand": "Ford",
  "model": "Mustang",
  "year": 1964
}
thisdict.pop("model")
print(thisdict)


#The popitem() method removes the last inserted item (in versions before 3.7, a random item is removed instead):

thisdict = {
  "brand": "Ford",
  "model": "Mustang",
  "year": 1964
}
thisdict.popitem()
print(thisdict)


#The del keyword removes the item with the specified key name:

thisdict = {
  "brand": "Ford",
  "model": "Mustang",
  "year": 1964
}
del thisdict["model"]
print(thisdict)


#The del keyword can also delete the dictionary completely:  error

thisdict = {
  "brand": "Ford",
  "model": "Mustang",
  "year": 1964
}
del thisdict
print(thisdict) #this will cause an error because "thisdict" no longer exists.


#The clear() method empties the dictionary:

thisdict = {
  "brand": "Ford",
  "model": "Mustang",
  "year": 1964
}
thisdict.clear()
print(thisdict)





#Make a copy of a dictionary with the copy() method:

thisdict = {
  "brand": "Ford",
  "model": "Mustang",
  "year": 1964
}
mydict = thisdict.copy()
print(mydict)





#Make a copy of a dictionary with the dict() function:

thisdict = {
  "brand": "Ford",
  "model": "Mustang",
  "year": 1964
}
mydict = dict(thisdict)
print(mydict)





#Create a dictionary that contain three dictionaries:

myfamily = {
  "child1" : {
    "name" : "Emil",
    "year" : 2004
  },
  "child2" : {
    "name" : "Tobias",
    "year" : 2007
  },
  "child3" : {
    "name" : "Linus",
    "year" : 2011
  }
}

print(myfamily)





child1 = {
  "name" : "Emil",
  "year" : 2004
}
child2 = {
  "name" : "Tobias",
  "year" : 2007
}
child3 = {
  "name" : "Linus",
  "year" : 2011
}

myfamily = {
  "child1" : child1,
  "child2" : child2,
  "child3" : child3
}

print(myfamily)






thisdict = dict(brand="Ford", model="Mustang", year=1964)
# note that keywords are not string literals
# note the use of equals rather than colon for the assignment
print(thisdict)











#If statement:

a = 33
b = 200
if b > a:
  print("b is greater than a")





#error
a = 33
b = 200

if b > a:
print("b is greater than a")






a = 33
b = 33
if b > a:
  print("b is greater than a")
elif a == b:
  print("a and b are equal")





a = 200
b = 33
if b > a:
  print("b is greater than a")
elif a == b:
  print("a and b are equal")
else:
  print("a is greater than b")



a = 200
b = 33
if b > a:
  print("b is greater than a")
else:
  print("b is not greater than a")






#One line if statement:

if a > b: print("a is greater than b")





#One line if else statement:

a = 2
b = 330
print("A") if a > b else print("B")


#This technique is known as Ternary Operators, or Conditional Expressions.
#One line if else statement, with 3 conditions:

a = 330
b = 330
print("A") if a > b else print("=") if a == b else print("B")





#Test if a is greater than b, AND if c is greater than a:

a = 200
b = 33
c = 500
if a > b and c > a:
  print("Both conditions are True")





#Test if a is greater than b, OR if a is greater than c:

a = 200
b = 33
c = 500
if a > b or a > c:
  print("At least one of the conditions is True")





x = 41

if x > 10:
  print("Above ten,")
  if x > 20:
    print("and also above 20!")
  else:
    print("but not above 20.")






a = 33
b = 200

if b > a:
  pass

# having an empty if statement like this, would raise an error without the pass statement









#Print i as long as i is less than 6:

i = 1
while i < 6:
  print(i)
  i += 1





#Exit the loop when i is 3:

i = 1
while i < 6:
  print(i)
  if i == 3:
    break
  i += 1





#Continue to the next iteration if i is 3:

i = 0
while i < 6:
  i += 1
  if i == 3:
    continue
  print(i)





#Print a message once the condition is false:

i = 1
while i < 6:
  print(i)
  i += 1
else:
  print("i is no longer less than 6")






#Print each fruit in a fruit list:

fruits = ["apple", "banana", "cherry"]
for x in fruits:
  print(x)





#Loop through the letters in the word "banana":

for x in "banana":
  print(x)





#Exit the loop when x is "banana":

fruits = ["apple", "banana", "cherry"]
for x in fruits:
  print(x)
  if x == "banana":
    break


#Exit the loop when x is "banana", but this time the break comes before the print:

fruits = ["apple", "banana", "cherry"]
for x in fruits:
  if x == "banana":
    break
  print(x)





#Do not print banana:

fruits = ["apple", "banana", "cherry"]
for x in fruits:
  if x == "banana":
    continue
  print(x)





#Using the range() function:

for x in range(6):
  print(x)





#Using the start parameter:

for x in range(2, 6):
  print(x)


#Increment the sequence with 3 (default is 1):

for x in range(2, 30, 3):
  print(x)





#Print all numbers from 0 to 5, and print a message when the loop has ended:

for x in range(6):
  print(x)
else:
  print("Finally finished!")





#Print each adjective for every fruit:

adj = ["red", "big", "tasty"]
fruits = ["apple", "banana", "cherry"]

for x in adj:
  for y in fruits:
    print(x, y)





for x in [0, 1, 2]:
  pass

# having an empty for loop like this, would raise an error without the pass statement












def my_function():
  print("Hello from a function")





def my_function():
  print("Hello from a function")

my_function()





def my_function(fname):
  print(fname + " Refsnes")

my_function("Emil")
my_function("Tobias")
my_function("Linus")















#This function expects 2 arguments, but gets only 1:

def my_function(fname, lname):
  print(fname + " " + lname)

my_function("Emil")






#If the number of arguments is unknown, add a * before the parameter name:

def my_function(*kids):
  print("The youngest child is " + kids[2])

my_function("Emil", "Tobias", "Linus")





def my_function(child3, child2, child1):
  print("The youngest child is " + child3)

my_function(child1 = "Emil", child2 = "Tobias", child3 = "Linus")





def my_function(country = "Norway"):
  print("I am from " + country)

my_function("Sweden")
my_function("India")
my_function()
my_function("Brazil")





def my_function(food):
  for x in food:
    print(x)

fruits = ["apple", "banana", "cherry"]

my_function(fruits)





def my_function(x):
  return 5 * x

print(my_function(3))
print(my_function(5))
print(my_function(9))






def myfunction():
  pass

# having an empty function definition like this, would raise an error without the pass statement












#A lambda function that adds 10 to the number passed in as an argument, and print the result:

x = lambda a : a + 10
print(x(5))





#A lambda function that multiplies argument a with argument b and print the result:

x = lambda a, b : a * b
print(x(5, 6))


#A lambda function that sums argument a, b, and c and print the result:

x = lambda a, b, c : a + b + c
print(x(5, 6, 2))





username = input("Enter username:")
print("Username is: " + username)
