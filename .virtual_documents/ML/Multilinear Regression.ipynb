import pandas as pd
from sklearn.linear_model import LinearRegression

# Step 1: Prepare the data
data = {
    'Hours_Studied': [2, 4, 6, 8],
    'Problems_Solved': [10, 20, 30, 40],
    'Marks': [40, 60, 70, 90]
}
df = pd.DataFrame(data)

# Step 2: Define features (X) and target (Y)
X = df[['Hours_Studied', 'Problems_Solved']]
y = df['Marks']

# Step 3: Train the model
model = LinearRegression()
model.fit(X, y)

# Step 4: Display coefficients
print("Intercept (b0):", model.intercept_)
print("Coefficient for Hours_Studied (b1):", model.coef_[0])
print("Coefficient for Problems_Solved (b2):", model.coef_[1])

# Step 5: Make a prediction
# Example: Predict marks for a student who studied 5 hours and solved 25 problems
predicted = model.predict([[7, 25]])
print("Predicted Marks:", predicted[0])






