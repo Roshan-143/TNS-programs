import pandas as pd
df=pd.read_csv('50_Startups.csv')
df


df.isnull().sum()


df.info()



