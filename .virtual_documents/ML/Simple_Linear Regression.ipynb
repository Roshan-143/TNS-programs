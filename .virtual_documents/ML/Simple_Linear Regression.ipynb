import pandas as pd
import matplotlib.pyplot as plt
from sklearn.linear_model import LinearRegression

# Sample data
data = {'Hours': [1, 2, 3, 4, 5], 'Marks': [35, 50, 65, 70, 85]}
df = pd.DataFrame(data)

# Features and target
X = df[['Hours']]
y = df['Marks']

# Train model
model = LinearRegression()
model.fit(X, y)

# Predict
predicted = model.predict(X)

# Plot
plt.scatter(X, y, color='blue')
plt.plot(X, predicted, color='red')
plt.xlabel("Hours Studied")
plt.ylabel("Marks Scored")
plt.title("Linear Regression: Study vs Marks")
plt.show()



